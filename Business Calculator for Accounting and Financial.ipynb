{
 "cells": [
  {
   "cell_type": "code",
   "execution_count": 1,
   "id": "74772b97",
   "metadata": {},
   "outputs": [],
   "source": [
    "def stockholders_equity(paid_in_capital,retained_earnings):\n",
    "    stockholders_equity = paid_in_capital + retained_earnings\n",
    "    return stockholders_equity"
   ]
  },
  {
   "cell_type": "code",
   "execution_count": null,
   "id": "400f0790",
   "metadata": {},
   "outputs": [],
   "source": [
    "def stockholders_equity2(total_assets,total_liabilities):\n",
    "    stockholders_equity2 = total_assets - total_liabilities\n",
    "    return stockholders_equity2"
   ]
  },
  {
   "cell_type": "code",
   "execution_count": null,
   "id": "a24ce476",
   "metadata": {},
   "outputs": [],
   "source": [
    "def net_working_capital(current_assets,current_liabilities):\n",
    "    net_working_capital = current_assets - current_liabilities\n",
    "    return net_working_capital"
   ]
  },
  {
   "cell_type": "code",
   "execution_count": 4,
   "id": "6ec7cb54",
   "metadata": {},
   "outputs": [],
   "source": [
    "def net_operating_working_capital2(current_assets,excess_cash,current_liabilities,note_payable):\n",
    "    net_operating_working_capital2 = (current_assets - excess_cash) - (current_liabilities - note_payable)\n",
    "    return net_operating_working_capital2"
   ]
  },
  {
   "cell_type": "code",
   "execution_count": 5,
   "id": "51e6648a",
   "metadata": {},
   "outputs": [],
   "source": [
    "def total_debt(short_term,long_term):\n",
    "    total_debt = short_term + long_term\n",
    "    return total_debt"
   ]
  },
  {
   "cell_type": "code",
   "execution_count": 7,
   "id": "e85c18d7",
   "metadata": {},
   "outputs": [],
   "source": [
    "def total_liabilities(total_debt,accounts_payabl,accruals):\n",
    "    total_liabilities = total_debt + accounts_payabl + accruals\n",
    "    return total_liabilities"
   ]
  },
  {
   "cell_type": "code",
   "execution_count": 9,
   "id": "d7f049be",
   "metadata": {},
   "outputs": [],
   "source": [
    "def EBIT(sales_revenue,operating_cost):\n",
    "    EBIT = sales_revenue - operating_cost\n",
    "    return EBIT"
   ]
  },
  {
   "cell_type": "code",
   "execution_count": 10,
   "id": "2c51db69",
   "metadata": {},
   "outputs": [],
   "source": [
    "def current_ratio(current_assets,current_liabilities):\n",
    "    if current_liabilities == 0:\n",
    "        return \"Cannot have zero in denominator\"\n",
    "    ratio = current_assets / current_liabilities\n",
    "    return ratio"
   ]
  },
  {
   "cell_type": "code",
   "execution_count": 11,
   "id": "43f766bb",
   "metadata": {},
   "outputs": [],
   "source": [
    "def acid_test(current_assets,inventories,current_liabilites):\n",
    "    if current_liabilites == 0:\n",
    "        return \"Cannot have zero in denominator\"\n",
    "    acid_ratio = (current_assets - inventories)/current_liabilites\n",
    "    return acid_ratio"
   ]
  },
  {
   "cell_type": "code",
   "execution_count": 12,
   "id": "4fc547f2",
   "metadata": {},
   "outputs": [],
   "source": [
    "def inventory_turnover(sales,inventories):\n",
    "    if inventories == 0:\n",
    "        return \"Cannot have zero in denominator\"\n",
    "    turnover = sales/inventories\n",
    "    return turnover"
   ]
  },
  {
   "cell_type": "code",
   "execution_count": 14,
   "id": "54b6e610",
   "metadata": {},
   "outputs": [],
   "source": [
    "def days_sales_outstanding(receivables,annual_sales):\n",
    "    if annual_sales == 0:\n",
    "        return \"Cannot have zero in denominator\"\n",
    "    DSO = receivables / (annual_sales/365)\n",
    "    return DSO"
   ]
  },
  {
   "cell_type": "code",
   "execution_count": 15,
   "id": "723a0b9e",
   "metadata": {},
   "outputs": [],
   "source": [
    "def fixed_assets_turnover(sales,accumulate_depreciation,accumulated_asset_impairmentloss,total_fixed_asset):\n",
    "    if ( total_fixed_asset + (accumulate_depreciation - accumulated_asset_impairmentloss)) == 0:\n",
    "        return \"Cannot have zero in denominator\"\n",
    "    fixed_ratio = sales / (total_fixed_asset - (accumulate_depreciation - accumulated_asset_impairmentloss))\n",
    "    return fixed_ratio"
   ]
  },
  {
   "cell_type": "code",
   "execution_count": 21,
   "id": "a9e3e91c",
   "metadata": {},
   "outputs": [],
   "source": [
    "def total_debt_to_total_capital(total_debt,total_capital,equity):\n",
    "    total = float(input(total_debt()))\n",
    "    equity = float(input())\n",
    "    if total == 0 and equity == 0:\n",
    "        return \"Cannot have zero in denominator\"\n",
    "    debt_ratio = total / (total + equity)\n",
    "    return debt_ratio"
   ]
  },
  {
   "cell_type": "code",
   "execution_count": null,
   "id": "e804821d",
   "metadata": {},
   "outputs": [],
   "source": [
    "def liabilities_to_assets(total_assets,total_liabilities):\n",
    "    if total_liabilities == 0:\n",
    "        return \"Cannot have zero in demoninator\"\n",
    "    liab_asset_ratio = total_assets / total_liabilities\n",
    "    return liab_asset_ratio"
   ]
  },
  {
   "cell_type": "code",
   "execution_count": 22,
   "id": "51b64dec",
   "metadata": {},
   "outputs": [],
   "source": [
    "def debt_to_equity(total_debt,equity):\n",
    "    if equity == 0:\n",
    "        return \"Cannot have zero in denominator\"\n",
    "    debt = float(input(total_debt()))\n",
    "    debt_ratio = debt / equity\n",
    "    return debt_ratio"
   ]
  },
  {
   "cell_type": "code",
   "execution_count": null,
   "id": "afb0915b",
   "metadata": {},
   "outputs": [],
   "source": [
    "def time_interest_earned(EBIT,interest):\n",
    "    if interest == 0:\n",
    "        return \"Cannot have zero in denominator\"\n",
    "    EBIT = float(input(EBIT()))\n",
    "    TIE = EBIT / interest\n",
    "    return TIE"
   ]
  },
  {
   "cell_type": "code",
   "execution_count": null,
   "id": "83287f0c",
   "metadata": {},
   "outputs": [],
   "source": [
    "def operating_margin(EBIT,sales):\n",
    "    if sales == 0:\n",
    "        return \"Cannot have zero in denominator\"\n",
    "    EBIT = float(input(EBIT()))\n",
    "    margin = EBIT / sales\n",
    "    return margin"
   ]
  },
  {
   "cell_type": "code",
   "execution_count": null,
   "id": "82fa6269",
   "metadata": {},
   "outputs": [],
   "source": [
    "def return_on_assets(net_income,total_assets):\n",
    "    if total_assets == 0:\n",
    "        return \"Cannot have zero in denominator\"\n",
    "    ROA = net_income / total_assets\n",
    "    return ROA"
   ]
  },
  {
   "cell_type": "code",
   "execution_count": null,
   "id": "620f3621",
   "metadata": {},
   "outputs": [],
   "source": [
    "def return_on_common_equity(net_income,common_equity):\n",
    "    if common_equity == 0:\n",
    "        return \"Cannot have zero in denominator\"\n",
    "    ROE = net_income / common_equity\n",
    "    return ROE"
   ]
  },
  {
   "cell_type": "code",
   "execution_count": null,
   "id": "73edd7ed",
   "metadata": {},
   "outputs": [],
   "source": [
    "def basic_earning_power(EBIT,total_assets):\n",
    "    if total_assets == 0:\n",
    "        return \"Cannot have zero in denominator\"\n",
    "    EBIT = float(input(EBIT()))\n",
    "    BEP = EBIT / total_assets\n",
    "    return BEP"
   ]
  },
  {
   "cell_type": "code",
   "execution_count": null,
   "id": "80554d6c",
   "metadata": {},
   "outputs": [],
   "source": [
    "def price_earnings(price_per_share,earnings_per_share):\n",
    "    if earnings_per_share == 0:\n",
    "        return \"Cannot have zero in denominator\"\n",
    "    PE = price_per_share / earnings_per_share\n",
    "    return PE"
   ]
  },
  {
   "cell_type": "code",
   "execution_count": null,
   "id": "929bbd81",
   "metadata": {},
   "outputs": [],
   "source": [
    "def book_value_per_share(common_equity,shares_outstanding):\n",
    "    if shares_outstanding == 0:\n",
    "        return \"Cannot have zero in denominator\"\n",
    "    BV = common_equity / shares_outstanding\n",
    "    return BV"
   ]
  },
  {
   "cell_type": "code",
   "execution_count": null,
   "id": "bf31db4a",
   "metadata": {},
   "outputs": [],
   "source": [
    "def market_to_book_value(market_price_per_share,book_value_per_share):\n",
    "    if book_value_per_share == 0:\n",
    "        return \"Cannot have zero in denominator\"\n",
    "    book_value_per_share = float(input(book_value_per_share()))\n",
    "    MB = market_price_per_share / book_value_per_share\n",
    "    return MB"
   ]
  },
  {
   "cell_type": "code",
   "execution_count": null,
   "id": "40a5d560",
   "metadata": {},
   "outputs": [],
   "source": [
    "def account_equation(liabilities,retained_earnings,paid_in_capital):\n",
    "    assets = liabilities + retained_earnings + paid_in_capital\n",
    "    return assets"
   ]
  },
  {
   "cell_type": "code",
   "execution_count": null,
   "id": "b5914833",
   "metadata": {},
   "outputs": [],
   "source": [
    "def retained_earnings(revenues,gains,expenses,losses,dividends):\n",
    "    RE = (revenues + gains) - (expenses + losses + dividends)\n",
    "    return RE"
   ]
  },
  {
   "cell_type": "code",
   "execution_count": null,
   "id": "d346ca3a",
   "metadata": {},
   "outputs": [],
   "source": [
    "# Amount of cash\n",
    "interaction01 = input(\"First, we need to calculate your current assets. What is the amount of cash you have earned? Enter below \\n\")\n",
    "cash = float(interaction01)\n",
    "#Amount of account receivable\n",
    "interaction02 = input(\"Enter the total amount of account receivable for the end of the period (the time period can be monthly,quarterly,or yearly)\\n\")\n",
    "AR = float(interaction02)\n",
    "# Cost of Goods Sold\n",
    "interaction03 = input(\"Enter the cost of goods sold:\"\\n)\n",
    "CGS = float(interaction03)\n",
    "# Gain on sale of investments\n",
    "interaction04 = input(\"Enter the gain on sale of investments:\"\\n)\n",
    "GSI = float(interaction04)\n",
    "# Selling expenses\n",
    "interaction05 = input(\"Enter the selling expenses: \"\\n)\n",
    "sellexp = float(interaction5)\n",
    "# Admin expenses\n",
    "interaction06 = input(\"Enter the general and administrative expenses: \"\\n)\n",
    "Gen_admin = float(interaction06)\n",
    "# R & D Expenses\n",
    "interaction07 = input(\"Enter the research and development expenses: \"\\n)\n",
    "Reserach_development = float(interaction07)\n",
    "# Interest Expense\n",
    "interaction08 = input(\"Enter the interest expense: \"\\n)\n",
    "interest_exp = float(interaction08)\n",
    "# Taxes\n",
    "interaction09 = input(\"Enter the tax expense: \"\\n)\n",
    "tax_exp = float(interaction09)\n",
    "# Other expenses\n",
    "interaction10 = input(\"Enter other expenses (supplies,bad debt, and other miscellaneous expenses)\"\\n)\n",
    "other_exp = float(interaction10)\n",
    "# Sales revenue\n",
    "interaction11 = input(\"Enter the total amount sales made from products and services: \" \\n)\n",
    "sales_revenue = float(interaction11)\n",
    "# Interest revenue\n",
    "interation12 = input(\"Enter interest earned from interest revenue: \"\\n)\n",
    "interest_revenue = float(interaction12)\n"
   ]
  },
  {
   "cell_type": "code",
   "execution_count": null,
   "id": "41f20bad",
   "metadata": {},
   "outputs": [],
   "source": [
    "# Net Income\n"
   ]
  }
 ],
 "metadata": {
  "kernelspec": {
   "display_name": "Python 3 (ipykernel)",
   "language": "python",
   "name": "python3"
  },
  "language_info": {
   "codemirror_mode": {
    "name": "ipython",
    "version": 3
   },
   "file_extension": ".py",
   "mimetype": "text/x-python",
   "name": "python",
   "nbconvert_exporter": "python",
   "pygments_lexer": "ipython3",
   "version": "3.10.4"
  }
 },
 "nbformat": 4,
 "nbformat_minor": 5
}
