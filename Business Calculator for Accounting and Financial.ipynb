{
 "cells": [
  {
   "cell_type": "code",
   "execution_count": 1,
   "id": "74772b97",
   "metadata": {},
   "outputs": [],
   "source": [
    "def stockholders_equity(paid_in_capital,retained_earnings):\n",
    "    stockholders_equity = paid_in_capital + retained_earnings\n",
    "    return stockholders_equity"
   ]
  },
  {
   "cell_type": "code",
   "execution_count": null,
   "id": "400f0790",
   "metadata": {},
   "outputs": [],
   "source": [
    "def stockholders_equity2(total_assets,total_liabilities):\n",
    "    stockholders_equity2 = total_assets - total_liabilities\n",
    "    return stockholders_equity2"
   ]
  },
  {
   "cell_type": "code",
   "execution_count": null,
   "id": "a24ce476",
   "metadata": {},
   "outputs": [],
   "source": [
    "def net_working_capital(current_assets,current_liabilities):\n",
    "    net_working_capital = current_assets - current_liabilities\n",
    "    return net_working_capital"
   ]
  },
  {
   "cell_type": "code",
   "execution_count": 4,
   "id": "6ec7cb54",
   "metadata": {},
   "outputs": [],
   "source": [
    "def net_operating_working_capital2(current_assets,excess_cash,current_liabilities,note_payable):\n",
    "    net_operating_working_capital2 = (current_assets - excess_cash) - (current_liabilities - note_payable)\n",
    "    return net_operating_working_capital2"
   ]
  },
  {
   "cell_type": "code",
   "execution_count": 5,
   "id": "51e6648a",
   "metadata": {},
   "outputs": [],
   "source": [
    "def total_debt(short_term,long_term):\n",
    "    total_debt = short_term + long_term\n",
    "    return total_debt"
   ]
  },
  {
   "cell_type": "code",
   "execution_count": 7,
   "id": "e85c18d7",
   "metadata": {},
   "outputs": [],
   "source": [
    "def total_liabilities(total_debt,accounts_payabl,accruals):\n",
    "    total_liabilities = total_debt + accounts_payabl + accruals\n",
    "    return total_liabilities"
   ]
  },
  {
   "cell_type": "code",
   "execution_count": 9,
   "id": "d7f049be",
   "metadata": {},
   "outputs": [],
   "source": [
    "def EBIT(sales_revenue,operating_cost):\n",
    "    EBIT = sales_revenue - operating_cost\n",
    "    return EBIT"
   ]
  },
  {
   "cell_type": "code",
   "execution_count": 10,
   "id": "2c51db69",
   "metadata": {},
   "outputs": [],
   "source": [
    "def current_ratio(current_assets,current_liabilities):\n",
    "    if current_liabilities == 0:\n",
    "        return \"Cannot have zero in denominator\"\n",
    "    ratio = current_assets / current_liabilities\n",
    "    return ratio"
   ]
  },
  {
   "cell_type": "code",
   "execution_count": 11,
   "id": "43f766bb",
   "metadata": {},
   "outputs": [],
   "source": [
    "def acid_test(current_assets,inventories,current_liabilites):\n",
    "    if current_liabilites == 0:\n",
    "        return \"Cannot have zero in denominator\"\n",
    "    acid_ratio = (current_assets - inventories)/current_liabilites\n",
    "    return acid_ratio"
   ]
  },
  {
   "cell_type": "code",
   "execution_count": 12,
   "id": "4fc547f2",
   "metadata": {},
   "outputs": [],
   "source": [
    "def inventory_turnover(sales,inventories):\n",
    "    if inventories == 0:\n",
    "        return \"Cannot have zero in denominator\"\n",
    "    turnover = sales/inventories\n",
    "    return turnover"
   ]
  },
  {
   "cell_type": "code",
   "execution_count": 14,
   "id": "54b6e610",
   "metadata": {},
   "outputs": [],
   "source": [
    "def days_sales_outstanding(receivables,annual_sales):\n",
    "    if annual_sales == 0:\n",
    "        return \"Cannot have zero in denominator\"\n",
    "    DSO = receivables / (annual_sales/365)\n",
    "    return DSO"
   ]
  },
  {
   "cell_type": "code",
   "execution_count": 15,
   "id": "723a0b9e",
   "metadata": {},
   "outputs": [],
   "source": [
    "def fixed_assets_turnover(sales,accumulate_depreciation,accumulated_asset_impairmentloss,total_fixed_asset):\n",
    "    if ( total_fixed_asset + (accumulate_depreciation - accumulated_asset_impairmentloss)) == 0:\n",
    "        return \"Cannot have zero in denominator\"\n",
    "    fixed_ratio = sales / (total_fixed_asset - (accumulate_depreciation - accumulated_asset_impairmentloss))\n",
    "    return fixed_ratio"
   ]
  },
  {
   "cell_type": "code",
   "execution_count": 21,
   "id": "a9e3e91c",
   "metadata": {},
   "outputs": [],
   "source": [
    "def total_debt_to_total_capital(total_debt,total_capital,equity):\n",
    "    total = float(input(total_debt()))\n",
    "    equity = float(input())\n",
    "    if total == 0 and equity == 0:\n",
    "        return \"Cannot have zero in denominator\"\n",
    "    debt_ratio = total / (total + equity)\n",
    "    return debt_ratio"
   ]
  },
  {
   "cell_type": "code",
   "execution_count": null,
   "id": "e804821d",
   "metadata": {},
   "outputs": [],
   "source": [
    "def liabilities_to_assets(total_assets,total_liabilities):\n",
    "    if total_liabilities == 0:\n",
    "        return \"Cannot have zero in demoninator\"\n",
    "    liab_asset_ratio = total_assets / total_liabilities\n",
    "    return liab_asset_ratio"
   ]
  },
  {
   "cell_type": "code",
   "execution_count": 22,
   "id": "51b64dec",
   "metadata": {},
   "outputs": [],
   "source": [
    "def debt_to_equity(total_debt,equity):\n",
    "    if equity == 0:\n",
    "        return \"Cannot have zero in denominator\"\n",
    "    debt = float(input(total_debt()))\n",
    "    debt_ratio = debt / equity\n",
    "    return debt_ratio"
   ]
  },
  {
   "cell_type": "code",
   "execution_count": null,
   "id": "afb0915b",
   "metadata": {},
   "outputs": [],
   "source": [
    "def time_interest_earned(EBIT,interest):\n",
    "    if interest == 0:\n",
    "        return \"Cannot have zero in denominator\"\n",
    "    EBIT = float(input(EBIT()))\n",
    "    TIE = EBIT / interest\n",
    "    return TIE"
   ]
  },
  {
   "cell_type": "code",
   "execution_count": null,
   "id": "83287f0c",
   "metadata": {},
   "outputs": [],
   "source": [
    "def operating_margin(EBIT,sales):\n",
    "    if sales == 0:\n",
    "        return \"Cannot have zero in denominator\"\n",
    "    EBIT = float(input(EBIT()))\n",
    "    margin = EBIT / sales\n",
    "    return margin"
   ]
  },
  {
   "cell_type": "code",
   "execution_count": null,
   "id": "82fa6269",
   "metadata": {},
   "outputs": [],
   "source": [
    "def return_on_assets(net_income,total_assets):\n",
    "    if total_assets == 0:\n",
    "        return \"Cannot have zero in denominator\"\n",
    "    ROA = net_income / total_assets\n",
    "    return ROA"
   ]
  },
  {
   "cell_type": "code",
   "execution_count": null,
   "id": "620f3621",
   "metadata": {},
   "outputs": [],
   "source": [
    "def return_on_common_equity(net_income,common_equity):\n",
    "    if common_equity == 0:\n",
    "        return \"Cannot have zero in denominator\"\n",
    "    ROE = net_income / common_equity\n",
    "    return ROE"
   ]
  },
  {
   "cell_type": "code",
   "execution_count": null,
   "id": "73edd7ed",
   "metadata": {},
   "outputs": [],
   "source": [
    "def basic_earning_power(EBIT,total_assets):\n",
    "    if total_assets == 0:\n",
    "        return \"Cannot have zero in denominator\"\n",
    "    EBIT = float(input(EBIT()))\n",
    "    BEP = EBIT / total_assets\n",
    "    return BEP"
   ]
  },
  {
   "cell_type": "code",
   "execution_count": null,
   "id": "80554d6c",
   "metadata": {},
   "outputs": [],
   "source": [
    "def price_earnings(price_per_share,earnings_per_share):\n",
    "    if earnings_per_share == 0:\n",
    "        return \"Cannot have zero in denominator\"\n",
    "    PE = price_per_share / earnings_per_share\n",
    "    return PE"
   ]
  },
  {
   "cell_type": "code",
   "execution_count": null,
   "id": "929bbd81",
   "metadata": {},
   "outputs": [],
   "source": [
    "def book_value_per_share(common_equity,shares_outstanding):\n",
    "    if shares_outstanding == 0:\n",
    "        return \"Cannot have zero in denominator\"\n",
    "    BV = common_equity / shares_outstanding\n",
    "    return BV"
   ]
  },
  {
   "cell_type": "code",
   "execution_count": null,
   "id": "bf31db4a",
   "metadata": {},
   "outputs": [],
   "source": [
    "def market_to_book_value(market_price_per_share,book_value_per_share):\n",
    "    if book_value_per_share == 0:\n",
    "        return \"Cannot have zero in denominator\"\n",
    "    book_value_per_share = float(input(book_value_per_share()))\n",
    "    MB = market_price_per_share / book_value_per_share\n",
    "    return MB"
   ]
  },
  {
   "cell_type": "code",
   "execution_count": null,
   "id": "40a5d560",
   "metadata": {},
   "outputs": [],
   "source": []
  }
 ],
 "metadata": {
  "kernelspec": {
   "display_name": "Python 3 (ipykernel)",
   "language": "python",
   "name": "python3"
  },
  "language_info": {
   "codemirror_mode": {
    "name": "ipython",
    "version": 3
   },
   "file_extension": ".py",
   "mimetype": "text/x-python",
   "name": "python",
   "nbconvert_exporter": "python",
   "pygments_lexer": "ipython3",
   "version": "3.10.4"
  }
 },
 "nbformat": 4,
 "nbformat_minor": 5
}
