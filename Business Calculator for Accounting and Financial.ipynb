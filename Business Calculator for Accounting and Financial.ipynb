{
 "cells": [
  {
   "cell_type": "code",
   "execution_count": 5,
   "metadata": {},
   "outputs": [
    {
     "name": "stdout",
     "output_type": "stream",
     "text": [
      "Total Cash and Equivalents:  100000.0\n"
     ]
    },
    {
     "ename": "ValueError",
     "evalue": "could not convert string to float: ''",
     "output_type": "error",
     "traceback": [
      "\u001b[1;31m---------------------------------------------------------------------------\u001b[0m",
      "\u001b[1;31mValueError\u001b[0m                                Traceback (most recent call last)",
      "Cell \u001b[1;32mIn[5], line 23\u001b[0m\n\u001b[0;32m     20\u001b[0m   \u001b[39mprint\u001b[39m(\u001b[39m'\u001b[39m\u001b[39mPlease reframe from entering anything but numerical numbers. There will be no more self-checks this time. If you enter non-numerical inputs, the program will fail!\u001b[39m\u001b[39m'\u001b[39m)\n\u001b[0;32m     21\u001b[0m   exit()\n\u001b[1;32m---> 23\u001b[0m short_term_investments \u001b[39m=\u001b[39m \u001b[39mfloat\u001b[39;49m(prompted002)\n\u001b[0;32m     25\u001b[0m \u001b[39mprint\u001b[39m(\u001b[39m'\u001b[39m\u001b[39mTotal short-term investmets\u001b[39m\u001b[39m'\u001b[39m)\n\u001b[0;32m     27\u001b[0m prompted003 \u001b[39m=\u001b[39m \u001b[39minput\u001b[39m(\u001b[39m'\u001b[39m\u001b[39mEnter in the total of account receivables before net. Do not include the net amount (Account receivable - bad debt), we will do it for you!!! \u001b[39m\u001b[39m'\u001b[39m)\n",
      "\u001b[1;31mValueError\u001b[0m: could not convert string to float: ''"
     ]
    }
   ],
   "source": [
    "# Code starts with current assets\n",
    "\n",
    "try:\n",
    "  prompted001 = input('In order to calculate and conduct business reports, it is important to know what are your current assets. Current assets consist of short-term investments, cash and treasury bills, inventory, and many more. We will first start with Cash. What was the total amount of cash and equivalents(treasury bills, notes, and 1-year bonds; also money markets)? Please enter a number: ')\n",
    "\n",
    "except:\n",
    "  print('Please enter a number to avoid errors moving forward. Run the program again.')\n",
    "  exit()\n",
    "\n",
    "\n",
    "cash_equivalents = float(prompted001)\n",
    "\n",
    "print('Total Cash and Equivalents: ', cash_equivalents)\n",
    "\n",
    "\n",
    "try:\n",
    "  prompted002 = input('Please enter the total amount of short-term investments. These investments can be and are intented to be shold within one year: ')\n",
    "\n",
    "except:\n",
    "  print('Please reframe from entering anything but numerical numbers. There will be no more self-checks this time. If you enter non-numerical inputs, the program will fail!')\n",
    "  exit()\n",
    "\n",
    "short_term_investments = float(prompted002)\n",
    "\n",
    "print('Total short-term investmets')\n",
    "\n",
    "prompted003 = input('Enter in the total of account receivables before net. Do not include the net amount (Account receivable - bad debt), we will do it for you!!! ')\n",
    "\n",
    "grossaccount_receivable = float(prompted003)\n",
    "\n",
    "print('Gross account receivable: ', grossaccount_receivable)\n",
    "\n",
    "prompted004 = input('What is the total amount of bad debt for this period (annually, monthly, weekly, daily)? ')\n",
    "\n",
    "baddebtexpense = float(prompted004)\n",
    "\n",
    "print('Total bad debt expense: ')\n",
    "\n",
    "net_accountreceivable = grossaccount_receivable - baddebtexpense\n",
    "\n",
    "print('Your net account receivable is ', net_accountreceivable)\n",
    "\n"
   ]
  },
  {
   "cell_type": "code",
   "execution_count": null,
   "metadata": {},
   "outputs": [],
   "source": []
  }
 ],
 "metadata": {
  "kernelspec": {
   "display_name": "Python 3",
   "language": "python",
   "name": "python3"
  },
  "language_info": {
   "codemirror_mode": {
    "name": "ipython",
    "version": 3
   },
   "file_extension": ".py",
   "mimetype": "text/x-python",
   "name": "python",
   "nbconvert_exporter": "python",
   "pygments_lexer": "ipython3",
   "version": "3.10.11"
  },
  "orig_nbformat": 4
 },
 "nbformat": 4,
 "nbformat_minor": 2
}
